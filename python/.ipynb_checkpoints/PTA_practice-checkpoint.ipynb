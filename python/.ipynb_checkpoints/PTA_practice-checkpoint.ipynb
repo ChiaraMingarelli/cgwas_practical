{
 "metadata": {
  "name": "",
  "signature": "sha256:3cf57f9dc2efc14aefdf53ea62e49580342f3955616d15bb83ee9d61abefc0e4"
 },
 "nbformat": 3,
 "nbformat_minor": 0,
 "worksheets": [
  {
   "cells": [
    {
     "cell_type": "heading",
     "level": 1,
     "metadata": {},
     "source": [
      "Deriving the overlap reduction function for Pulsar Timing Arrays"
     ]
    },
    {
     "cell_type": "heading",
     "level": 4,
     "metadata": {},
     "source": [
      "Dr. Chiara M. F. Mingarelli for CGWAS. \n",
      "chiara@caltech.edu"
     ]
    },
    {
     "cell_type": "code",
     "collapsed": false,
     "input": [
      "from __future__ import division\n",
      "import cmath\n",
      "import math\n",
      "import matplotlib.pyplot as plt\n",
      "from matplotlib import rc, text\n",
      "from matplotlib.font_manager import FontProperties\n",
      "import numpy as np\n",
      "import scipy.special as sp\n",
      "from scipy.integrate import quad, dblquad\n",
      "\n",
      "%matplotlib inline\n",
      "%config InlineBackend.figure_format = \"retina\""
     ],
     "language": "python",
     "metadata": {},
     "outputs": [],
     "prompt_number": 1
    },
    {
     "cell_type": "heading",
     "level": 5,
     "metadata": {},
     "source": [
      "A few shortcuts"
     ]
    },
    {
     "cell_type": "code",
     "collapsed": false,
     "input": [
      "sqrt=math.sqrt\n",
      "cos=math.cos\n",
      "sin=math.sin\n",
      "exp=cmath.exp\n",
      "pi=math.pi\n",
      "log=math.log"
     ],
     "language": "python",
     "metadata": {},
     "outputs": [],
     "prompt_number": 2
    },
    {
     "cell_type": "heading",
     "level": 5,
     "metadata": {},
     "source": [
      "Functions to calculate the Hellings and Downs curve"
     ]
    },
    {
     "cell_type": "code",
     "collapsed": false,
     "input": [
      "def F_cross_a():\n",
      "    \"\"\"\n",
      "    The F^x detector response function for pulsar \"a\".\n",
      "    In the ``computational frame'' this is always zero.\n",
      "    \"\"\"\n",
      "    ans = 0.\n",
      "    return ans\n",
      "\n",
      "def F_plus_a(theta):\n",
      "    \"\"\"\n",
      "    The F^+ detector response function for pulsar \"a\".\n",
      "    \"\"\"\n",
      "    ans = -0.5*(1-cos(theta))\n",
      "    return ans\n",
      "\n",
      "def F_cross_b(phi,theta, zeta):\n",
      "    \"\"\"\n",
      "    The F^x detector response function for pulsar \"b\".\n",
      "    In the ``computational frame'' this is always zero.\n",
      "    \"\"\"\n",
      "    num = sin(phi)*sin(zeta)*(cos(theta*sin(zeta*cos(phi)-sin(theta)*cos(zeta))))\n",
      "    deno = 1+cos(theta)*cos(zeta)+sin(theta)*sin(zeta)*cos(phi)\n",
      "    ans = num/deno\n",
      "    return ans\n",
      "\n",
      "def F_plus_b(phi, theta, zeta):\n",
      "    \"\"\"\n",
      "    The F^+ detector response function for pulsar \"b\".\n",
      "    \"\"\"\n",
      "    num = (sin(phi)*sin(zeta))**2-(sin(zeta)*cos(theta)*cos(phi)-sin(theta)*cos(zeta))**2\n",
      "    deno = 1+cos(theta)*cos(zeta)+sin(theta)*sin(zeta)*cos(phi)\n",
      "    ans = 0.5*num/deno\n",
      "    return ans\n",
      "\n",
      "def Gamma_hd(phi,theta,zeta):\n",
      "    antennas=F_plus_a(theta)*F_plus_b(phi, theta, zeta) #in this frame, cross polarizations are zero!\n",
      "    ans = antennas*sin(theta) #full function, sin(theta) from d\\Omegahat= sin(theta) d\\theta d\\phi (jacobian)\n",
      "    return ans\n",
      "\n",
      "\n",
      "def int_Gamma(zeta):\n",
      "    \"\"\"\n",
      "    Integrates Gamma(zeta) from theta = 0..pi and phi = 0..2pi \n",
      "    \"\"\"\n",
      "    ans = dblquad(Gamma_hd,0,pi,lambda x: 0, lambda x: 2*pi, args = (zeta,))[0]\n",
      "    return  ans  "
     ],
     "language": "python",
     "metadata": {},
     "outputs": [],
     "prompt_number": 3
    },
    {
     "cell_type": "heading",
     "level": 5,
     "metadata": {},
     "source": [
      "Make arrays and define how many steps there are in the integration"
     ]
    },
    {
     "cell_type": "code",
     "collapsed": false,
     "input": [
      "steps=100\n",
      "zeta=np.empty([steps])\n",
      "gamma_array=np.empty([steps])\n",
      "lim=pi"
     ],
     "language": "python",
     "metadata": {},
     "outputs": [],
     "prompt_number": 4
    },
    {
     "cell_type": "heading",
     "level": 5,
     "metadata": {},
     "source": [
      "Fill the arrays (this might take some time depending on the number of steps you choose)"
     ]
    },
    {
     "cell_type": "code",
     "collapsed": false,
     "input": [
      "for k in range(steps):\n",
      "    zeta[k]=(k*lim/(steps-1.)) #going to the preset limit \"lim\" in radians\n",
      "    gamma_array[k]=int_Gamma(zeta[k])\n"
     ],
     "language": "python",
     "metadata": {},
     "outputs": [],
     "prompt_number": 5
    },
    {
     "cell_type": "heading",
     "level": 5,
     "metadata": {},
     "source": [
      "Plot the result!"
     ]
    },
    {
     "cell_type": "code",
     "collapsed": false,
     "input": [
      "fig=plt.figure()\n",
      "plt.plot(zeta,gamma_array/(4.18879020479*2)) \n",
      "plt.ylabel(r'Overlap reduction function, $\\Gamma(\\zeta)$')\n",
      "plt.xlabel(r'Angular separation of pulsars, $\\zeta$ [rad]')\n",
      "plt.xlim(0,pi)\n",
      "plt.show()"
     ],
     "language": "python",
     "metadata": {},
     "outputs": [
      {
       "metadata": {
        "png": {
         "height": 272,
         "width": 392
        }
       },
       "output_type": "display_data",
       "png": "[encoded data removed]",
       "text": [
        "<matplotlib.figure.Figure at 0x110746890>"
       ]
      }
     ],
     "prompt_number": 10
    }
   ],
   "metadata": {}
  }
 ]
}